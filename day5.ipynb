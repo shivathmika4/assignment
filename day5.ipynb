{
  "nbformat": 4,
  "nbformat_minor": 0,
  "metadata": {
    "colab": {
      "provenance": [],
      "authorship_tag": "ABX9TyPwJsKKf6jYjxmF+djdLghg",
      "include_colab_link": true
    },
    "kernelspec": {
      "name": "python3",
      "display_name": "Python 3"
    },
    "language_info": {
      "name": "python"
    }
  },
  "cells": [
    {
      "cell_type": "markdown",
      "metadata": {
        "id": "view-in-github",
        "colab_type": "text"
      },
      "source": [
        "<a href=\"https://colab.research.google.com/github/rithvikamylavarapu/assignment/blob/main/day5.ipynb\" target=\"_parent\"><img src=\"https://colab.research.google.com/assets/colab-badge.svg\" alt=\"Open In Colab\"/></a>"
      ]
    },
    {
      "cell_type": "code",
      "execution_count": 3,
      "metadata": {
        "colab": {
          "base_uri": "https://localhost:8080/"
        },
        "id": "KT3C14gWgoMN",
        "outputId": "b911eca9-7370-42b0-da0e-b61f580e9604"
      },
      "outputs": [
        {
          "output_type": "stream",
          "name": "stdout",
          "text": [
            "Enter the text: i am rithvika and my roll num is 343\n",
            "Word frequencies:\n",
            "i: 1\n",
            "am: 1\n",
            "rithvika: 1\n",
            "and: 1\n",
            "my: 1\n",
            "roll: 1\n",
            "num: 1\n",
            "is: 1\n",
            "343: 1\n"
          ]
        }
      ],
      "source": [
        "# Input text\n",
        "text = input(\"Enter the text: \")\n",
        "\n",
        "# Convert the text to lowercase and split it into words\n",
        "words = text.lower().split()\n",
        "\n",
        "# Create a dictionary to store word frequencies\n",
        "word_count = {}\n",
        "\n",
        "# Calculate the frequency of each word\n",
        "for word in words:\n",
        "    word_count[word] = word_count.get(word, 0) + 1\n",
        "\n",
        "# Print the words and their corresponding counts\n",
        "print(\"Word frequencies:\")\n",
        "for word, count in word_count.items():\n",
        "    print(f\"{word}: {count}\")\n"
      ]
    },
    {
      "cell_type": "code",
      "source": [],
      "metadata": {
        "id": "L3vZRaS3gpH-"
      },
      "execution_count": null,
      "outputs": []
    }
  ]
}