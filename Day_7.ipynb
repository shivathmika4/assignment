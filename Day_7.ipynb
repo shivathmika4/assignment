{
  "nbformat": 4,
  "nbformat_minor": 0,
  "metadata": {
    "colab": {
      "provenance": [],
      "authorship_tag": "ABX9TyOwbnSdbVI47jzTvEDe5I8+",
      "include_colab_link": true
    },
    "kernelspec": {
      "name": "python3",
      "display_name": "Python 3"
    },
    "language_info": {
      "name": "python"
    }
  },
  "cells": [
    {
      "cell_type": "markdown",
      "metadata": {
        "id": "view-in-github",
        "colab_type": "text"
      },
      "source": [
        "<a href=\"https://colab.research.google.com/github/rithvikamylavarapu/assignment/blob/main/day7.ipynb\" target=\"_parent\"><img src=\"https://colab.research.google.com/assets/colab-badge.svg\" alt=\"Open In Colab\"/></a>"
      ]
    },
    {
      "cell_type": "code",
      "source": [
        "from gensim.parsing.preprocessing import preprocess_string, strip_punctuation, strip_numeric, remove_stopwords, strip_short\n",
        "from gensim.parsing.porter import PorterStemmer\n",
        "\n",
        "def preprocess_text(text):\n",
        "    filters = [lambda x: x.lower(), strip_punctuation, strip_numeric, remove_stopwords, strip_short]\n",
        "    return preprocess_string(text, filters)\n",
        "\n",
        "sample_text = \"This is a sample text file for preprocessing. It contains multiple words and sentences.\"\n",
        "\n",
        "processed_data = preprocess_text(sample_text)\n",
        "\n",
        "stemmer = PorterStemmer()\n",
        "stemmed_data = [stemmer.stem(word) for word in processed_data]\n",
        "\n",
        "print(\"Lemmatized Data:\", processed_data)\n",
        "print(\"Stemmed Data:\", stemmed_data)\n"
      ],
      "metadata": {
        "colab": {
          "base_uri": "https://localhost:8080/"
        },
        "id": "L3vZRaS3gpH-",
        "outputId": "f9c81da1-ddd3-4e87-c215-48f6f6377cce"
      },
      "execution_count": 10,
      "outputs": [
        {
          "output_type": "stream",
          "name": "stdout",
          "text": [
            "Lemmatized Data: ['sample', 'text', 'file', 'preprocessing', 'contains', 'multiple', 'words', 'sentences']\n",
            "Stemmed Data: ['sampl', 'text', 'file', 'preprocess', 'contain', 'multipl', 'word', 'sentenc']\n"
          ]
        }
      ]
    },
    {
      "cell_type": "code",
      "source": [],
      "metadata": {
        "id": "09BBWWQ6jD8r"
      },
      "execution_count": null,
      "outputs": []
    }
  ]
}